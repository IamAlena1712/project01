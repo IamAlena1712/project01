{
  "nbformat": 4,
  "nbformat_minor": 0,
  "metadata": {
    "colab": {
      "provenance": []
    },
    "kernelspec": {
      "name": "python3",
      "display_name": "Python 3"
    },
    "language_info": {
      "name": "python"
    }
  },
  "cells": [
    {
      "cell_type": "code",
      "source": [
        "# Задача 2.4.\n",
        "\n",
        "# Пункт A.\n",
        "# Напишите функцию, которая удаляет все восклицательные знаки из заданной строк.\n",
        "# Например,\n",
        "# foo(\"Hi! Hello!\") -> \"Hi Hello\"\n",
        "# foo(\"\") -> \"\"\n",
        "# foo(\"Oh, no!!!\") -> \"Oh, no\"\n",
        "\n",
        "\n",
        "b = str(input(\"\"))\n",
        "new = ''\n",
        "\n",
        "def remove_exclamation_marks(b):\n",
        "  new = b.replace('!', ' ')\n",
        "  return(new)\n",
        "\n",
        "print(remove_exclamation_marks(b))\n",
        "\n",
        "\n"
      ],
      "metadata": {
        "id": "AeJUiZbYUU0M",
        "colab": {
          "base_uri": "https://localhost:8080/"
        },
        "outputId": "3143e1ba-61c4-4e31-9d6f-2bf96fdbf74e"
      },
      "execution_count": 3,
      "outputs": [
        {
          "output_type": "stream",
          "name": "stdout",
          "text": [
            "jghjf!!!!!!!!!\n",
            "jghjf         \n"
          ]
        }
      ]
    },
    {
      "cell_type": "code",
      "execution_count": null,
      "metadata": {
        "id": "C-i9lEa9UAyD",
        "colab": {
          "base_uri": "https://localhost:8080/"
        },
        "outputId": "78763664-ff6b-4933-c161-ae4d0607097f"
      },
      "outputs": [
        {
          "output_type": "stream",
          "name": "stdout",
          "text": [
            "min = -6553\n",
            "max = 98762\n"
          ]
        }
      ],
      "source": [
        "# Задача 2.1.\n",
        "\n",
        "# Создайте две функции maximum и minimum,\n",
        "# которые получают список целых чисел в качестве входных данных\n",
        "# и возвращают наибольшее и наименьшее число в этом списке соответственно.\n",
        "# Например,\n",
        "# * [4,6,2,1,9,63,-134,566]         -> max = 566, min = -134\n",
        "# * [-52, 56, 30, 29, -54, 0, -110] -> min = -110, max = 56\n",
        "# * [42, 54, 65, 87, 0]             -> min = 0, max = 87\n",
        "# * [5]                             -> min = 5, max = 5\n",
        "# функции sorted, max и min использовать нельзя!\n",
        "\n",
        "arr = [6, 32, 15, 60, -9, -6553, 98762]\n",
        "\n",
        "def minimum(arr):\n",
        "  n = len(arr)\n",
        "  for i in range (n - 1):\n",
        "    for j in range (n - i -1):\n",
        "      if arr[j] > arr[j + 1]:\n",
        "        arr[j], arr[j+1] = arr[j+1], arr[j]\n",
        "\n",
        "  return arr[0]\n",
        "\n",
        "\n",
        "print('min =', minimum(arr))\n",
        "\n",
        "\n",
        "def maximum(arr):\n",
        "  n = len(arr)\n",
        "  for i in range (n - 1):\n",
        "    for j in range (n - i -1):\n",
        "      if arr[j] > arr[j + 1]:\n",
        "        arr[j], arr[j+1] = arr[j+1], arr[j]\n",
        "\n",
        "  return arr[n-1]\n",
        "\n",
        "print('max =', maximum(arr))"
      ]
    },
    {
      "cell_type": "code",
      "source": [
        "from re import X\n",
        "# Задача 2.2.\n",
        "\n",
        "# Напишите функцию, которая возвращает номер квартал по номеру месяца\n",
        "# Например:\n",
        "# месяц 2 (февраль) является частью первого квартала;\n",
        "# месяц 6 (июнь) является частью второго квартала;\n",
        "# месяц 11 (ноябрь) является частью четвертого квартала.\n",
        "\n",
        "\n",
        "x = int(input('Введите номер месяца '))\n",
        "\n",
        "\n",
        "def quarter_of(month):\n",
        "  if month > 0 and month <= 3:\n",
        "    return 1\n",
        "  if month > 3 and month <= 6:\n",
        "    return 2\n",
        "  if month > 6 and month <= 9:\n",
        "    return 3\n",
        "  if month > 9 and month <= 12:\n",
        "    return 4\n",
        "  elif month > 12 and month < 1:\n",
        "    print('номер месяца введен некорректно')\n",
        "\n",
        "\n",
        "print( 'номер квартала: ', quarter_of(int(x)))\n",
        "\n"
      ],
      "metadata": {
        "id": "7qeiPIacUNJm",
        "colab": {
          "base_uri": "https://localhost:8080/"
        },
        "outputId": "a03cbd18-7118-41c2-bdef-1942ce76d219"
      },
      "execution_count": null,
      "outputs": [
        {
          "output_type": "stream",
          "name": "stdout",
          "text": [
            "Введите номер месяца 0\n",
            "номер квартала:  None\n"
          ]
        }
      ]
    },
    {
      "cell_type": "code",
      "source": [
        "# Задача 2.3.\n",
        "\n",
        "# Напишите функцию, которая принимает цифры от 0 до 9 и возвращает значение прописью.\n",
        "# Например,\n",
        "# switch_it_up(1) -> 'One'\n",
        "# switch_it_up(3) -> 'Three'\n",
        "# switch_it_up(10000) -> None\n",
        "# Использовать условный оператор if-elif-else нельзя!\n",
        "\n",
        "\n",
        "x = int(input('Введите число: '))\n",
        "\n",
        "number = ('Zero', 'One', 'Two', 'Three', 'Four', 'Five', 'Six', 'Seven', 'Eigth', 'Nine')\n",
        "\n",
        "def switch_it_up(x):\n",
        "  return number[x]\n",
        "\n",
        "print('Число прописью:  ', switch_it_up(x))\n"
      ],
      "metadata": {
        "id": "t0nLGJJtURP1",
        "colab": {
          "base_uri": "https://localhost:8080/"
        },
        "outputId": "0dd6c965-c070-4f3f-e725-5a3090cdbb5c"
      },
      "execution_count": null,
      "outputs": [
        {
          "output_type": "stream",
          "name": "stdout",
          "text": [
            "Введите число: 5\n",
            "Число прописью:   Five\n"
          ]
        }
      ]
    },
    {
      "cell_type": "code",
      "source": [
        "# Дополнительно\n",
        "\n",
        "# Пункт С.\n",
        "# Удалите слова из предложения, если они содержат ровно один восклицательный знак.\n",
        "# Слова разделены одним пробелом.\n",
        "# Например,\n",
        "# remove(\"Hi!\") === \"\"\n",
        "# remove(\"Hi! Hi!\") === \"\"\n",
        "# remove(\"Hi! Hi! Hi!\") === \"\"\n",
        "# remove(\"Hi Hi! Hi!\") === \"Hi\"\n",
        "# remove(\"Hi! !Hi Hi!\") === \"\"\n",
        "# remove(\"Hi! Hi!! Hi!\") === \"Hi!!\"\n",
        "# remove(\"Hi! !Hi! Hi!\") === \"!Hi!\"\n",
        "\n",
        "def remove_word_with_one_em(s):\n",
        "    pass"
      ],
      "metadata": {
        "id": "RknDSTdJO3nA"
      },
      "execution_count": null,
      "outputs": []
    },
    {
      "cell_type": "code",
      "source": [
        "\n",
        "# Пункт B.\n",
        "# Удалите восклицательный знак из конца строки.\n",
        "# remove(\"Hi!\") == \"Hi\"\n",
        "# remove(\"Hi!!!\") == \"Hi!!\"\n",
        "# remove(\"!Hi\") == \"!Hi\"\n",
        "\n",
        "s = input()\n",
        "new = \" \"\n",
        "# print(len(s))\n",
        "new = s[0: len(s) -1]\n",
        "\n",
        "\n",
        "def remove_last_em(s):\n",
        "  if s[len(s)-1] == '!':\n",
        "    new = s[0: len(s) -1]\n",
        "    return new\n",
        "\n",
        "\n",
        "print(\"новая строка без ! знака\", remove_last_em(s))\n",
        "\n",
        "\n",
        "\n"
      ],
      "metadata": {
        "colab": {
          "base_uri": "https://localhost:8080/"
        },
        "id": "3gitgeP7Iv3B",
        "outputId": "321c4bb3-4906-4080-f9aa-c55ad84ea1fb"
      },
      "execution_count": 5,
      "outputs": [
        {
          "output_type": "stream",
          "name": "stdout",
          "text": [
            "jhfg!!!\n",
            "новая строка без ! знака jhfg!!\n"
          ]
        }
      ]
    }
  ]
}